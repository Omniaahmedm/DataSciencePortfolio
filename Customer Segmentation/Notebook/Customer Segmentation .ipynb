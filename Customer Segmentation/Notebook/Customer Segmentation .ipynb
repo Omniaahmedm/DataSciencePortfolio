{
 "cells": [
  {
   "cell_type": "code",
   "execution_count": 1,
   "id": "eff0a20e-a781-4d15-9fd9-8b0062b9d239",
   "metadata": {},
   "outputs": [],
   "source": [
    "import pandas as pd\n",
    "import numpy as np\n",
    "import matplotlib.pyplot as plt\n",
    "import seaborn as sns\n",
    "\n",
    "import warnings\n",
    "warnings.filterwarnings(\"ignore\") "
   ]
  },
  {
   "cell_type": "code",
   "execution_count": 3,
   "id": "10882b52-d66a-43fb-82a1-f8c54f988d34",
   "metadata": {},
   "outputs": [],
   "source": [
    "import pandas as pd\n",
    "import matplotlib.pyplot as plt\n",
    "import seaborn as sns\n",
    "from sklearn.preprocessing import StandardScaler\n",
    "from sklearn.cluster import KMeans\n",
    "from sklearn.decomposition import PCA\n",
    "\n",
    "# Load data\n",
    "data = pd.read_csv('marketing_campaign.csv', sep=\"\\t\")\n",
    "\n",
    "\n"
   ]
  },
  {
   "cell_type": "markdown",
   "id": "e167c5e3-6609-411b-ba50-718ada894a71",
   "metadata": {},
   "source": [
    "## Data Preprocessing"
   ]
  },
  {
   "cell_type": "code",
   "execution_count": 5,
   "id": "8531f5b6-f5cc-4673-9a55-05a9c0436291",
   "metadata": {},
   "outputs": [
    {
     "name": "stdout",
     "output_type": "stream",
     "text": [
      "Number of variables:  29\n",
      "Number of observations:  2240\n",
      "Number of duplicates:  0\n",
      "Missing cells:  24\n",
      "numeric values:  26\n",
      "categories values:  3\n"
     ]
    }
   ],
   "source": [
    "#data information or Dataset statistics\n",
    "print(f'Number of variables: ',data.shape[1])\n",
    "print(f'Number of observations: ',data.shape[0])\n",
    "print(f'Number of duplicates: ',data.duplicated().sum())\n",
    "print(f'Missing cells: ',data.isnull().sum().sum())\n",
    "print(f'numeric values: ',len(data.select_dtypes(include=np.number).columns))\n",
    "print(f'categories values: ',len(data.select_dtypes(include='O').columns))"
   ]
  },
  {
   "cell_type": "code",
   "execution_count": 7,
   "id": "76b6bd12-b1f3-40dc-986a-5e570c7ac3a8",
   "metadata": {},
   "outputs": [
    {
     "name": "stdout",
     "output_type": "stream",
     "text": [
      "<class 'pandas.core.frame.DataFrame'>\n",
      "RangeIndex: 2240 entries, 0 to 2239\n",
      "Data columns (total 29 columns):\n",
      " #   Column               Non-Null Count  Dtype  \n",
      "---  ------               --------------  -----  \n",
      " 0   ID                   2240 non-null   int64  \n",
      " 1   Year_Birth           2240 non-null   int64  \n",
      " 2   Education            2240 non-null   object \n",
      " 3   Marital_Status       2240 non-null   object \n",
      " 4   Income               2216 non-null   float64\n",
      " 5   Kidhome              2240 non-null   int64  \n",
      " 6   Teenhome             2240 non-null   int64  \n",
      " 7   Dt_Customer          2240 non-null   object \n",
      " 8   Recency              2240 non-null   int64  \n",
      " 9   MntWines             2240 non-null   int64  \n",
      " 10  MntFruits            2240 non-null   int64  \n",
      " 11  MntMeatProducts      2240 non-null   int64  \n",
      " 12  MntFishProducts      2240 non-null   int64  \n",
      " 13  MntSweetProducts     2240 non-null   int64  \n",
      " 14  MntGoldProds         2240 non-null   int64  \n",
      " 15  NumDealsPurchases    2240 non-null   int64  \n",
      " 16  NumWebPurchases      2240 non-null   int64  \n",
      " 17  NumCatalogPurchases  2240 non-null   int64  \n",
      " 18  NumStorePurchases    2240 non-null   int64  \n",
      " 19  NumWebVisitsMonth    2240 non-null   int64  \n",
      " 20  AcceptedCmp3         2240 non-null   int64  \n",
      " 21  AcceptedCmp4         2240 non-null   int64  \n",
      " 22  AcceptedCmp5         2240 non-null   int64  \n",
      " 23  AcceptedCmp1         2240 non-null   int64  \n",
      " 24  AcceptedCmp2         2240 non-null   int64  \n",
      " 25  Complain             2240 non-null   int64  \n",
      " 26  Z_CostContact        2240 non-null   int64  \n",
      " 27  Z_Revenue            2240 non-null   int64  \n",
      " 28  Response             2240 non-null   int64  \n",
      "dtypes: float64(1), int64(25), object(3)\n",
      "memory usage: 507.6+ KB\n"
     ]
    }
   ],
   "source": [
    "data.info()"
   ]
  },
  {
   "cell_type": "code",
   "execution_count": 15,
   "id": "929606bf-5163-41d7-a2bc-c9bdc4acbe07",
   "metadata": {},
   "outputs": [],
   "source": [
    "# drop the missing values\n",
    "data=data.dropna()"
   ]
  },
  {
   "cell_type": "code",
   "execution_count": 17,
   "id": "d980d351-a77c-4694-a973-67c376c5ab5a",
   "metadata": {},
   "outputs": [],
   "source": [
    "\n",
    "data[\"Dt_Customer\"] = pd.to_datetime(data[\"Dt_Customer\"],format='%d-%m-%Y')"
   ]
  },
  {
   "cell_type": "markdown",
   "id": "5ff2ae45-431c-47ec-9893-32aa65f298b5",
   "metadata": {},
   "source": [
    "## Feature Engineering"
   ]
  },
  {
   "cell_type": "code",
   "execution_count": 19,
   "id": "d47ea30e-5553-4d46-87de-bceb776c2cae",
   "metadata": {},
   "outputs": [],
   "source": [
    "#Feature Engineering\n",
    "#Age of customer today \n",
    "data[\"Age\"] = 2024-data[\"Year_Birth\"]"
   ]
  },
  {
   "cell_type": "markdown",
   "id": "62e92f13-5b72-4ceb-89de-616d224691ed",
   "metadata": {},
   "source": [
    "## remove outlier"
   ]
  },
  {
   "cell_type": "code",
   "execution_count": 21,
   "id": "dcf631ee-101c-406d-a6f1-e7a2dee976cb",
   "metadata": {},
   "outputs": [
    {
     "name": "stdout",
     "output_type": "stream",
     "text": [
      "The total number of data-points after removing the outliers are: 2212\n"
     ]
    }
   ],
   "source": [
    "#Dropping the outliers by setting a cap on Age and income. \n",
    "data = data[(data[\"Age\"]<90)]\n",
    "data = data[(data[\"Income\"]<600000)]\n",
    "print(\"The total number of data-points after removing the outliers are:\", len(data))"
   ]
  },
  {
   "cell_type": "markdown",
   "id": "aeec79ee-b2b7-42fb-9fdc-3861ffad4087",
   "metadata": {},
   "source": [
    "## RFM Model"
   ]
  },
  {
   "cell_type": "code",
   "execution_count": 117,
   "id": "20362afc-243b-4bd7-be0f-760a81ae562c",
   "metadata": {},
   "outputs": [
    {
     "name": "stdout",
     "output_type": "stream",
     "text": [
      "              Segment      Recency TotalPurchases     Monetary      \n",
      "                              mean           mean         mean count\n",
      "0      Best Customers  3546.562500      25.812500  1681.187500    16\n",
      "1        Big Spenders  3911.248804      18.746411  1606.636364   209\n",
      "2  Frequent Customers  3925.633838      25.863636  1166.537879   396\n",
      "3      Lost Customers  4098.825000       4.825000    31.750000    40\n",
      "4     Loyal Customers  3544.147541      11.997658   435.941452   427\n",
      "5              Others  3877.794484      11.611210   294.684164  1124\n"
     ]
    }
   ],
   "source": [
    "\n",
    "# Preprocess data\n",
    "\n",
    "data['Recency'] = (pd.to_datetime('2024-01-01') - data['Dt_Customer']).dt.days\n",
    "data['TotalPurchases'] = data['NumWebPurchases'] + data['NumCatalogPurchases'] + data['NumStorePurchases']+data[\"NumDealsPurchases\"]\n",
    "data['Monetary'] = (data['MntWines'] + data['MntFruits'] + data['MntMeatProducts'] +\n",
    "                    data['MntFishProducts'] + data['MntSweetProducts'] + data['MntGoldProds'])\n",
    "\n",
    "# Calculate RFM metrics\n",
    "rfm = data[['ID', 'Recency', 'TotalPurchases', 'Monetary']]\n",
    "\n",
    "# Assign RFM scores\n",
    "rfm['R_Score'] = pd.qcut(rfm['Recency'], 5, labels=[5, 4, 3, 2, 1])\n",
    "rfm['F_Score'] = pd.qcut(rfm['TotalPurchases'].rank(method='first'), 5, labels=[1, 2, 3, 4, 5])\n",
    "rfm['M_Score'] = pd.qcut(rfm['Monetary'], 5, labels=[1, 2, 3, 4, 5])\n",
    "\n",
    "# Combine RFM scores\n",
    "rfm['RFM_Score'] = rfm['R_Score'].astype(str) + rfm['F_Score'].astype(str) + rfm['M_Score'].astype(str)\n",
    "\n",
    "# Segment customers\n",
    "def segment_customer(df):\n",
    "    if df['RFM_Score'] == '555':\n",
    "        return 'Best Customers'\n",
    "    elif df['RFM_Score'] == '111':\n",
    "        return 'Lost Customers'\n",
    "    elif df['RFM_Score'][0] == '5':\n",
    "        return 'Loyal Customers'\n",
    "    elif df['RFM_Score'][1] == '5':\n",
    "        return 'Frequent Customers'\n",
    "    elif df['RFM_Score'][2] == '5':\n",
    "        return 'Big Spenders'\n",
    "    else:\n",
    "        return 'Others'\n",
    "\n",
    "rfm['Segment'] = rfm.apply(segment_customer, axis=1)\n",
    "\n",
    "# Analyze segments\n",
    "segment_analysis = rfm.groupby('Segment').agg({\n",
    "    'Recency': 'mean',\n",
    "    'TotalPurchases': 'mean',\n",
    "    'Monetary': ['mean', 'count']\n",
    "}).reset_index()\n",
    "\n",
    "print(segment_analysis)\n"
   ]
  },
  {
   "cell_type": "code",
   "execution_count": null,
   "id": "a832c2ba-8b0e-45d3-986b-dc8f341557c9",
   "metadata": {},
   "outputs": [],
   "source": []
  },
  {
   "cell_type": "code",
   "execution_count": null,
   "id": "3c4dfe02-cd5a-4ffe-941f-4ba216d5f67f",
   "metadata": {},
   "outputs": [],
   "source": []
  },
  {
   "cell_type": "code",
   "execution_count": null,
   "id": "1b2ba752-264f-4ab4-b6f8-5649da60d778",
   "metadata": {},
   "outputs": [],
   "source": []
  },
  {
   "cell_type": "code",
   "execution_count": null,
   "id": "eab3aecf-ff7b-475b-931b-e89a8c6bec22",
   "metadata": {},
   "outputs": [],
   "source": []
  },
  {
   "cell_type": "code",
   "execution_count": null,
   "id": "f38da961-13ca-44ad-973d-d39465304e2a",
   "metadata": {},
   "outputs": [],
   "source": []
  }
 ],
 "metadata": {
  "kernelspec": {
   "display_name": "Python 3 (ipykernel)",
   "language": "python",
   "name": "python3"
  },
  "language_info": {
   "codemirror_mode": {
    "name": "ipython",
    "version": 3
   },
   "file_extension": ".py",
   "mimetype": "text/x-python",
   "name": "python",
   "nbconvert_exporter": "python",
   "pygments_lexer": "ipython3",
   "version": "3.12.4"
  }
 },
 "nbformat": 4,
 "nbformat_minor": 5
}
